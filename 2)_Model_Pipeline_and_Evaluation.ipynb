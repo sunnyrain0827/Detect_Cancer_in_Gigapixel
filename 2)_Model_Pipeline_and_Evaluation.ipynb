{
  "nbformat": 4,
  "nbformat_minor": 0,
  "metadata": {
    "accelerator": "GPU",
    "colab": {
      "name": "2) Model Pipeline and Evaluation.ipynb",
      "provenance": [],
      "collapsed_sections": [],
      "toc_visible": true,
      "machine_shape": "hm"
    },
    "kernelspec": {
      "display_name": "tf",
      "language": "python",
      "name": "tf"
    },
    "language_info": {
      "codemirror_mode": {
        "name": "ipython",
        "version": 3
      },
      "file_extension": ".py",
      "mimetype": "text/x-python",
      "name": "python",
      "nbconvert_exporter": "python",
      "pygments_lexer": "ipython3",
      "version": "3.7.4"
    }
  },
  "cells": [
    {
      "cell_type": "markdown",
      "metadata": {
        "colab_type": "text",
        "id": "JX53hsQZ3WUc"
      },
      "source": [
        "# Model Pipeline and Evaluation"
      ]
    },
    {
      "cell_type": "code",
      "metadata": {
        "id": "FuCBHI_gQju8",
        "colab_type": "code",
        "colab": {}
      },
      "source": [
        "local = False"
      ],
      "execution_count": 0,
      "outputs": []
    },
    {
      "cell_type": "code",
      "metadata": {
        "id": "iiOZHTS7Qn7j",
        "colab_type": "code",
        "outputId": "3dfe6213-1d3f-4b30-910c-c82817b6604a",
        "colab": {
          "base_uri": "https://localhost:8080/",
          "height": 230
        }
      },
      "source": [
        "# Install the OpenSlide C library and Python bindings\n",
        "if not local:\n",
        "    !apt-get install openslide-tools\n",
        "    !pip install openslide-python"
      ],
      "execution_count": 7,
      "outputs": [
        {
          "output_type": "stream",
          "text": [
            "\rReading package lists... 0%\r\rReading package lists... 0%\r\rReading package lists... 0%\r\rReading package lists... 7%\r\rReading package lists... 7%\r\rReading package lists... 7%\r\rReading package lists... 7%\r\rReading package lists... 65%\r\rReading package lists... 65%\r\rReading package lists... 66%\r\rReading package lists... 66%\r\rReading package lists... 71%\r\rReading package lists... 73%\r\rReading package lists... 73%\r\rReading package lists... 73%\r\rReading package lists... 73%\r\rReading package lists... 82%\r\rReading package lists... 82%\r\rReading package lists... 82%\r\rReading package lists... 82%\r\rReading package lists... 82%\r\rReading package lists... 82%\r\rReading package lists... 82%\r\rReading package lists... 82%\r\rReading package lists... 87%\r\rReading package lists... 87%\r\rReading package lists... 87%\r\rReading package lists... 87%\r\rReading package lists... 93%\r\rReading package lists... 93%\r\rReading package lists... 93%\r\rReading package lists... 93%\r\rReading package lists... 93%\r\rReading package lists... 93%\r\rReading package lists... 94%\r\rReading package lists... 94%\r\rReading package lists... 95%\r\rReading package lists... 95%\r\rReading package lists... 98%\r\rReading package lists... 98%\r\rReading package lists... 98%\r\rReading package lists... 98%\r\rReading package lists... Done\r\n",
            "\rBuilding dependency tree... 0%\r\rBuilding dependency tree... 0%\r\rBuilding dependency tree... 50%\r\rBuilding dependency tree... 50%\r\rBuilding dependency tree       \r\n",
            "\rReading state information... 0%\r\rReading state information... 0%\r\rReading state information... Done\r\n",
            "openslide-tools is already the newest version (3.4.1+dfsg-2).\n",
            "The following package was automatically installed and is no longer required:\n",
            "  libnvidia-common-430\n",
            "Use 'apt autoremove' to remove it.\n",
            "0 upgraded, 0 newly installed, 0 to remove and 7 not upgraded.\n",
            "Requirement already satisfied: openslide-python in /usr/local/lib/python3.6/dist-packages (1.1.1)\n",
            "Requirement already satisfied: Pillow in /usr/local/lib/python3.6/dist-packages (from openslide-python) (4.3.0)\n",
            "Requirement already satisfied: olefile in /usr/local/lib/python3.6/dist-packages (from Pillow->openslide-python) (0.46)\n"
          ],
          "name": "stdout"
        }
      ]
    },
    {
      "cell_type": "code",
      "metadata": {
        "id": "33n1pog9QsOP",
        "colab_type": "code",
        "colab": {}
      },
      "source": [
        "if not local:\n",
        "    %tensorflow_version 2.x"
      ],
      "execution_count": 0,
      "outputs": []
    },
    {
      "cell_type": "code",
      "metadata": {
        "id": "l7nOLta4Qs33",
        "colab_type": "code",
        "colab": {}
      },
      "source": [
        "import pickle\n",
        "import random\n",
        "import time\n",
        "import tensorflow as tf\n",
        "\n",
        "%matplotlib inline\n",
        "import matplotlib.pyplot as plt\n",
        "import numpy as np\n",
        "import os\n",
        "\n",
        "import matplotlib.gridspec as gridspec\n",
        "import matplotlib.patches as mp_patches\n",
        "\n",
        "from openslide import open_slide, __library_version__ as openslide_version\n",
        "from PIL import Image\n",
        "from skimage.color import rgb2gray\n",
        "from sklearn import metrics\n",
        "from matplotlib import gridspec\n",
        "from matplotlib.colors import Normalize\n",
        "from tensorflow.keras import layers\n",
        "from tensorflow.keras.preprocessing.image import ImageDataGenerator"
      ],
      "execution_count": 0,
      "outputs": []
    },
    {
      "cell_type": "code",
      "metadata": {
        "id": "JZGXDdQ4Q0cK",
        "colab_type": "code",
        "colab": {
          "base_uri": "https://localhost:8080/",
          "height": 134
        },
        "outputId": "a396d221-5cc3-4e36-a896-fb551a538407"
      },
      "source": [
        "from google.colab import drive\n",
        "drive.mount('/content/drive')"
      ],
      "execution_count": 10,
      "outputs": [
        {
          "output_type": "stream",
          "text": [
            "Go to this URL in a browser: https://accounts.google.com/o/oauth2/auth?client_id=947318989803-6bn6qk8qdgf4n4g3pfee6491hc0brc4i.apps.googleusercontent.com&redirect_uri=urn%3aietf%3awg%3aoauth%3a2.0%3aoob&response_type=code&scope=email%20https%3a%2f%2fwww.googleapis.com%2fauth%2fdocs.test%20https%3a%2f%2fwww.googleapis.com%2fauth%2fdrive%20https%3a%2f%2fwww.googleapis.com%2fauth%2fdrive.photos.readonly%20https%3a%2f%2fwww.googleapis.com%2fauth%2fpeopleapi.readonly\n",
            "\n",
            "Enter your authorization code:\n",
            "··········\n",
            "Mounted at /content/drive\n"
          ],
          "name": "stdout"
        }
      ]
    },
    {
      "cell_type": "code",
      "metadata": {
        "id": "akqnThD5Q_wb",
        "colab_type": "code",
        "colab": {}
      },
      "source": [
        "if not local:\n",
        "  folder_root = \"/content/drive/My Drive/4995-final\"\n",
        "  slides_folder = os.path.join(folder_root, 'slides')\n",
        "else:\n",
        "  folder_root = '.'\n",
        "  slides_folder = '.'"
      ],
      "execution_count": 0,
      "outputs": []
    },
    {
      "cell_type": "code",
      "metadata": {
        "id": "xF-8g0lqRBlM",
        "colab_type": "code",
        "colab": {}
      },
      "source": [
        "if not os.path.exists(folder_root):\n",
        "  os.mkdir(folder_root)\n",
        "\n",
        "if not os.path.exists(slides_folder):\n",
        "  os.mkdir(slides_folder)"
      ],
      "execution_count": 0,
      "outputs": []
    },
    {
      "cell_type": "markdown",
      "metadata": {
        "id": "LEpRWZ7Olqq_",
        "colab_type": "text"
      },
      "source": [
        "# Slide Related Functions"
      ]
    },
    {
      "cell_type": "code",
      "metadata": {
        "id": "15FTYkG9dfq9",
        "colab_type": "code",
        "colab": {}
      },
      "source": [
        "# See https://openslide.org/api/python/#openslide.OpenSlide.read_region\n",
        "# Note: x,y coords are with respect to level 0.\n",
        "# There is an example below of working with coordinates\n",
        "# with respect to a higher zoom level.\n",
        "\n",
        "# Read a region from the slide\n",
        "# Return a numpy RBG array\n",
        "def read_slide(slide, x, y, level, width, height, as_float=False):\n",
        "  im = slide.read_region((x,y), level, (width, height))\n",
        "  im = im.convert('RGB') # drop the alpha channel\n",
        "  if as_float:\n",
        "      im = np.asarray(im, dtype=np.float32)\n",
        "  else:\n",
        "      im = np.asarray(im)\n",
        "  assert im.shape == (height, width, 3)\n",
        "  return im\n",
        "\n",
        "# of the slide. We'll find these by looking for all gray regions.\n",
        "def find_tissue_pixels(image, intensity=0.8):\n",
        "    im_gray = rgb2gray(image)\n",
        "    assert im_gray.shape == (image.shape[0], image.shape[1])\n",
        "    indices = np.where(im_gray <= intensity)\n",
        "    return list(zip(indices[0], indices[1]))\n",
        "\n",
        "def apply_mask(im, mask, color=(255,0,0)):\n",
        "    masked = np.copy(im)\n",
        "    for x,y in mask: masked[x][y] = color\n",
        "    return masked\n",
        "\n",
        "def create_tissue_mask(im, mask, color=(1,1,1)):\n",
        "    masked = np.zeros(im.shape)\n",
        "    for x,y in mask: masked[x][y] = color\n",
        "    return masked\n",
        "\n",
        "def get_downsample_ratio(level):\n",
        "  return 2**level"
      ],
      "execution_count": 0,
      "outputs": []
    },
    {
      "cell_type": "markdown",
      "metadata": {
        "id": "822xXtbktWci",
        "colab_type": "text"
      },
      "source": [
        "# Patch Extraction Utilities"
      ]
    },
    {
      "cell_type": "code",
      "metadata": {
        "id": "09SUlqN3tU4P",
        "colab_type": "code",
        "colab": {}
      },
      "source": [
        "def is_patch_tumor(mask, patch_center):\n",
        "  \"\"\"Check if the patch within patch_center x patch_center contains tumor\n",
        "  \n",
        "  mask: the tumor mask\n",
        "  patch_center: the patch centroid and size\n",
        "  \"\"\"\n",
        "  y = int(round(mask.shape[0]/2)) - int(round(patch_center/2))\n",
        "  x = int(round(mask.shape[1]/2)) - int(round(patch_center/2))\n",
        "  center_region = mask[y:y+patch_center, x:x+patch_center]\n",
        "\n",
        "  return np.sum(center_region) > 0\n",
        "\n",
        "def get_dim_from_slide(slide, lvl):\n",
        "  \"\"\"Get the dimension of a level\n",
        "\n",
        "  slide: a slide image\n",
        "  lvl: a level\n",
        "  \"\"\"\n",
        "  return int(slide.level_downsamples[lvl])\n",
        "\n",
        "def extract_patches_only_from_center(x, y, slide, tumor_mask, lvl, patch_size):\n",
        "  \"\"\"Extract slide and tumor patches.\n",
        "\n",
        "  x: x-axis center\n",
        "  y: y-axis center\n",
        "  slide: the full image slide\n",
        "  tumor_mask: the full tumor mask slide\n",
        "  lvl: zoom level\n",
        "  patch_size: the size of the patch\n",
        "  \"\"\"\n",
        "  dim = get_dim_from_slide(slide, lvl)\n",
        "    \n",
        "  # extract slide image by patch_size x patch_size centered at patch_center x patch_center size\n",
        "  slide_patch = read_slide(\n",
        "    slide, \n",
        "    x=(x - patch_size//2)*dim, \n",
        "    y=(y - patch_size//2)*dim,\n",
        "    level=lvl, \n",
        "    width=patch_size, \n",
        "    height=patch_size\n",
        "  )\n",
        "\n",
        "  # extract tumor by patch_size x patch_size centered at patch_center x patch_center size\n",
        "  tumor_patch = read_slide(\n",
        "      tumor_mask, \n",
        "      x=(x - patch_size//2)*dim, \n",
        "      y=(y - patch_size//2)*dim,\n",
        "      level=lvl, \n",
        "      width=patch_size, \n",
        "      height=patch_size\n",
        "  )\n",
        "\n",
        "  # tumor patch just use one channel\n",
        "  tumor_patch = tumor_patch[:, :, 0]\n",
        "\n",
        "  return slide_patch, tumor_patch\n",
        "\n",
        "def extract_patches_from_center(x, y, slide, tumor_mask, lvl, patch_size):\n",
        "  \"\"\"Extract slide, tumor and tissue regions\n",
        "\n",
        "  x: x-axis center\n",
        "  y: y-axis center\n",
        "  slide: the full image slide\n",
        "  tumor_mask: the full tumor mask slide\n",
        "  lvl: zoom level\n",
        "  patch_size: the size of the patch\n",
        "  \"\"\"\n",
        "  slide_patch, tumor_patch = extract_patches_only_from_center(x, y, slide, \n",
        "                                                              tumor_mask, lvl, patch_size)\n",
        "  \n",
        "  # extract tissue pixels\n",
        "  tissue_pixels = find_tissue_pixels(slide_patch)\n",
        "  percent_tissue = len(tissue_pixels) / float(slide_patch.shape[0] * slide_patch.shape[0]) * 100\n",
        "  \n",
        "  return slide_patch, tumor_patch, tissue_pixels, percent_tissue\n",
        "\n",
        "def extract_patches(slide, tumor_mask, lvl, patch_center=128, patch_size=299, \n",
        "                    max_patches=100, plot_patch=False, healthy_ratio=0.6):\n",
        "  \"\"\"Extract slide and tumor patches and labels to build the training data for a slide\n",
        "\n",
        "  slide: slide for the image\n",
        "  tumor mask: slide for the mask\n",
        "  lvl: zoom level\n",
        "  max_patches: how many patches to extract\n",
        "  plot_patch: boolean to indicate plotting the image\n",
        "  healthy_ratio: the ratio between healthy and tumor patches\n",
        "  \"\"\"\n",
        "  print(\"===Start Extracting patches..===\")\n",
        "  start_time = time.time() / 60\n",
        "  data_patches, data_masks, data_labels, data_tissues = [], [], [], []\n",
        "  \n",
        "  # number of possible patches\n",
        "  dim = int(tumor_mask.level_downsamples[lvl])\n",
        "  \n",
        "  # extract full patch\n",
        "  slide_image = read_slide(\n",
        "    slide, \n",
        "    x=0, \n",
        "    y=0,\n",
        "    level=lvl, \n",
        "    width=slide.level_dimensions[lvl][0], \n",
        "    height=slide.level_dimensions[lvl][1]\n",
        "  )\n",
        "  \n",
        "  # extract tumor patches\n",
        "  tumor_image = read_slide(\n",
        "    tumor_mask, \n",
        "    x=0, \n",
        "    y=0,\n",
        "    level=lvl, \n",
        "    width=tumor_mask.level_dimensions[lvl][0], \n",
        "    height=tumor_mask.level_dimensions[lvl][1]\n",
        "  )\n",
        "  # tumor patch just use one channel\n",
        "  tumor_image = tumor_image[:,:,0]\n",
        "  \n",
        "  # check if it's a tissue pixels\n",
        "  tissue_pixels = find_tissue_pixels(slide_image)\n",
        "  tissue_masked = create_tissue_mask(slide_image, tissue_pixels)\n",
        "\n",
        "  tissue_healthy = tissue_masked[:,:,0] - tumor_image\n",
        "  tissue_healthy[tissue_healthy < 0] = 0\n",
        "  \n",
        "  # extract tumorous patches, returns indexes (arr[y], arr[x])\n",
        "  tissue_tumor_idx = np.where(tumor_image > 0)\n",
        "  \n",
        "  # extract healthy patches, returns indexes (arr[y], arr[x])\n",
        "  tissue_healthy_idx = np.where(tissue_healthy > 0)\n",
        "  \n",
        "  print(\"#tumorous tissue pixels: {}, #healthy tissue pixels: {}\".format(\n",
        "    len(tissue_tumor_idx[0]),\n",
        "    len(tissue_healthy_idx[0]),\n",
        "  ))\n",
        "  \n",
        "  # sample from tumor pixels (x, y)\n",
        "  max_tumor = int(max_patches * (1 - healthy_ratio))\n",
        "  tumor_pixels = random.sample(list(zip(tissue_tumor_idx[1], tissue_tumor_idx[0])), \n",
        "                                min(1000, len(tissue_tumor_idx[0]) // 2))\n",
        "  \n",
        "  # sample from healthy pixels (x, y)\n",
        "  max_healthy = int(max_patches * healthy_ratio)\n",
        "  healthy_pixels = random.sample(list(zip(tissue_healthy_idx[1], tissue_healthy_idx[0])), \n",
        "                                  min(5000, len(tissue_healthy_idx[0]) // 2))\n",
        "  \n",
        "  # extract tumor patches\n",
        "  count_tumor = 0\n",
        "  while len(tumor_pixels) != 0 and count_tumor < max_tumor:\n",
        "    (x, y) = tumor_pixels.pop()\n",
        "      \n",
        "    # extract center patches\n",
        "    slide_patch, tumor_patch, tissue_patch, percent_tissue = \\\n",
        "      extract_patches_from_center(x, y, slide, tumor_mask, lvl, patch_size)\n",
        "      \n",
        "    # add to healthy if it's not a tumor\n",
        "    if percent_tissue > 50 and is_patch_tumor(tumor_patch, patch_center):\n",
        "      data_patches.append(slide_patch)\n",
        "      data_masks.append(tumor_patch)\n",
        "      data_labels.append(1)\n",
        "      \n",
        "      count_tumor += 1\n",
        "  \n",
        "  # extract healthy patches\n",
        "  count_healthy = 0\n",
        "  while len(healthy_pixels) != 0 and count_healthy < max_healthy:\n",
        "    (x, y) = healthy_pixels.pop()\n",
        "    \n",
        "    # extract center patches\n",
        "    slide_patch, tumor_patch, tissue_patch, percent_tissue = \\\n",
        "        extract_patches_from_center(x, y, slide, tumor_mask, lvl, patch_size)\n",
        "\n",
        "    # check if it's a tissue pixels\n",
        "    tissue_pixels = find_tissue_pixels(slide_patch)\n",
        "    percent_tissue = len(tissue_pixels) / float(slide_patch.shape[0] * slide_patch.shape[0]) * 100\n",
        "    \n",
        "    # add to healthy if it's not a tumor\n",
        "    if percent_tissue > 50 and not is_patch_tumor(tumor_patch, patch_center):\n",
        "      data_patches.append(slide_patch)\n",
        "      data_masks.append(tumor_patch)\n",
        "      data_labels.append(0)\n",
        "      \n",
        "      count_healthy += 1\n",
        "  \n",
        "  print(\"Tumor Patches: {}, Healthy Patches: {}\".format(count_tumor, count_healthy))\n",
        "  data_patches, data_masks, data_labels = (\n",
        "    np.array(data_patches), \n",
        "    np.array(data_masks), \n",
        "    np.array(data_labels)\n",
        "  )\n",
        "  extraction_time = time.time()/60 - start_time\n",
        "  \n",
        "  if plot_patch:\n",
        "    # plot images\n",
        "    fig, axes = plt.subplots(1, 4, figsize=(15, 15))\n",
        "    axes[0].imshow(slide_image)\n",
        "    axes[0].set_title(\"full slide\")\n",
        "\n",
        "    axes[1].imshow(tumor_image)\n",
        "    axes[1].set_title(\"full tumor mask\")\n",
        "\n",
        "    axes[2].imshow(tissue_healthy)\n",
        "    axes[2].set_title(\"full healthy tissue\")\n",
        "\n",
        "    axes[3].imshow(slide_image)\n",
        "    axes[3].imshow(np.ma.masked_values(tumor_image, 0), \n",
        "                    cmap='viridis', vmin=0, vmax=1, alpha=0.8)\n",
        "    axes[3].set_title(\"full tumor on slide\")\n",
        "      \n",
        "  print('Time: %.2f min' % extraction_time)\n",
        "  print(\"===Patch Extraction Done!===\")\n",
        "  \n",
        "  return data_patches, data_masks, data_labels\n",
        "\n",
        "def extract_patches_from_slide_id(slide_id, level, max_patches=200, force_reload=False):\n",
        "  slide = open_slide(os.path.join(SLIDE_DIR, SLIDE_FILE.format(id=slide_id)))\n",
        "  tumor_mask = open_slide(os.path.join(SLIDE_DIR, TUMOR_FILE.format(id=slide_id)))\n",
        "  \n",
        "  data_dir = 'preprocessed'\n",
        "  data_dir_path = os.path.join(folder_root, data_dir)\n",
        "  \n",
        "  print(\"======Start Extracting Patch ID {} Level {}======\".format(slide_id, level))\n",
        "  start_time = time.time()\n",
        "  \n",
        "  if not os.path.exists(data_dir_path):\n",
        "    print(\"{} does not exist! Creating a directory...\".format(data_dir_path))\n",
        "    os.mkdir(data_dir_path)\n",
        "      \n",
        "  patch_path = os.path.join(data_dir_path, \"patch_{}_lvl_{}.npy\".format(slide_id, level))\n",
        "  mask_path = os.path.join(data_dir_path, \"mask_{}_lvl_{}.npy\".format(slide_id, level))\n",
        "  label_path = os.path.join(data_dir_path, \"labels_{}_lvl_{}.npy\".format(slide_id, level))\n",
        "  \n",
        "  if not os.path.exists(patch_path) or \\\n",
        "    not os.path.exists(mask_path) or \\\n",
        "    not os.path.exists(label_path) or \\\n",
        "    force_reload:\n",
        "    print(\"Preprocessing data...\")\n",
        "    data_patches, data_masks, data_labels = extract_patches(slide, tumor_mask, \n",
        "                                                            level, max_patches=max_patches)\n",
        "    \n",
        "    np.save(patch_path, data_patches)\n",
        "    print(\"Wrote to {}\".format(patch_path))\n",
        "    np.save(mask_path, data_masks)\n",
        "    print(\"Wrote to {}\".format(mask_path))\n",
        "    np.save(label_path, data_labels)\n",
        "    print(\"Wrote to {}\".format(label_path))\n",
        "  else:\n",
        "    print(\"Data already exists! Preload existing data...\")\n",
        "    data_patches = np.load(patch_path)\n",
        "    data_masks = np.load(mask_path)\n",
        "    data_labels = np.load(label_path)\n",
        "    print(\"Total tumors: {}\".format(data_labels.sum()))\n",
        "  \n",
        "  patch_ext_time = (time.time() - start_time)/60\n",
        "  print('Time: %.2f min' % patch_ext_time)\n",
        "  print(\"======Finish Extracting Patch ID {} Level {}======\".format(slide_id, level))\n",
        "      \n",
        "  return data_patches, data_masks, data_labels"
      ],
      "execution_count": 0,
      "outputs": []
    },
    {
      "cell_type": "code",
      "metadata": {
        "id": "Qj8ObP1otenl",
        "colab_type": "code",
        "colab": {}
      },
      "source": [
        "# Sanity Check: check extracted patches\n",
        "\n",
        "#From left to right, we show slide, tumor mask and slide plus tumor mask. For the tumor mask on slide,\n",
        "#we show the centre with red square.\n",
        "#if there is no tumor at the center we label it 0\n",
        "#if there is tumor at the center we label it 1.\n",
        "\n",
        "def plot_sample_patches(patches, masks, N=4, patch_center=128, patch_size=299):\n",
        "  \"\"\"Plot sample patches\n",
        "  patches: the patches\n",
        "  masks: the masks\n",
        "  \"\"\"\n",
        "  rand_indices = []\n",
        "  rand_indices.extend(np.random.choice(np.where(labels == 0)[0], N//2, replace=False))\n",
        "  rand_indices.extend(np.random.choice(np.where(labels == 1)[0], N//2, replace=False))\n",
        "\n",
        "  fig = plt.figure(figsize=(15/4*N, 15/4*N))\n",
        "  gs = gridspec.GridSpec(N, 3)\n",
        "\n",
        "  for i in range(N):\n",
        "    idx = rand_indices[i]\n",
        "\n",
        "    # plotting the 128x128 center\n",
        "    offset = int((patch_size - patch_center)/2)\n",
        "\n",
        "    ax = fig.add_subplot(gs[i, 0])\n",
        "    ax.imshow(patches[idx])\n",
        "    ax.set_title(\"slide\")\n",
        "    ax.set_ylabel(\"Label: {}\".format(labels[idx]))\n",
        "\n",
        "    ax = fig.add_subplot(gs[i, 1])\n",
        "    ax.imshow(masks[idx])\n",
        "    ax.set_title(\"tumor mask\")\n",
        "\n",
        "    ax = fig.add_subplot(gs[i, 2])\n",
        "    ax.imshow(patches[idx])\n",
        "    ax.imshow(np.ma.masked_values(masks[idx], 0), \n",
        "              cmap='viridis', vmin=0, vmax=1, alpha=0.8)\n",
        "    rect = mp_patches.Rectangle(\n",
        "        (int((patch_size - patch_center)/2), int((patch_size - patch_center)/2)),\n",
        "        patch_center, patch_center, linewidth=2, edgecolor='r', facecolor='none')\n",
        "    ax.add_patch(rect)\n",
        "\n",
        "    ax.set_title(\"tumor mask on slide\")"
      ],
      "execution_count": 0,
      "outputs": []
    },
    {
      "cell_type": "markdown",
      "metadata": {
        "id": "WdJa6oN4Tp8n",
        "colab_type": "text"
      },
      "source": [
        "# Data Loading and Splitting\n",
        "\n",
        "This loads the processed data done in the previous part, and split the data into\n",
        "3 sets: training, validation and testing"
      ]
    },
    {
      "cell_type": "code",
      "metadata": {
        "id": "dGAzvXJWORK5",
        "colab_type": "code",
        "colab": {}
      },
      "source": [
        "def load_all_slides(level_dir, train_ids, test_ids):\n",
        "  \"\"\"This method loads several preprocessed slide images, tumors and labels\n",
        "  within the same zoom level used to speed up for experimentations and \n",
        "  exploring models and evaluations\n",
        "\n",
        "  level_dir: the directory of the slide images at level x\n",
        "  train_ids: the list of slide ids for training data\n",
        "  test_ids: the list of slide ids for test data\n",
        "  \"\"\"\n",
        "  files = os.listdir(level_dir)\n",
        "\n",
        "  # map id to patch, mask, labels, record\n",
        "  all_files = { }\n",
        "\n",
        "  for f in files:\n",
        "    fn = f.split(\"_\")\n",
        "    dtype, slide_id = fn[0], fn[1]\n",
        "    data = np.load(os.path.join(level_dir, f))\n",
        "    \n",
        "    if slide_id in all_files:\n",
        "      slide_data = all_files[slide_id]\n",
        "      slide_data[dtype] = data\n",
        "    else:\n",
        "      all_files[slide_id] = {}\n",
        "      all_files[slide_id][dtype] = data\n",
        "\n",
        "  train_patches, train_masks, train_labels, train_slide_ids = [], [], [], []\n",
        "  test_patches, test_masks, test_labels, test_slide_ids = [], [], [], []\n",
        "\n",
        "  for slide_id in all_files.keys():\n",
        "    N = len(all_files[slide_id]['patch'])\n",
        "    assert N == len(all_files[slide_id]['mask'])\n",
        "    assert N == len(all_files[slide_id]['labels'])\n",
        "\n",
        "    if slide_id in train_ids:\n",
        "      train_patches.extend(all_files[slide_id]['patch'])\n",
        "      train_masks.extend(all_files[slide_id]['mask'])\n",
        "      train_labels.extend(all_files[slide_id]['labels'])\n",
        "      train_slide_ids.extend([slide_id]*N)\n",
        "    elif slide_id in test_ids:\n",
        "      test_patches.extend(all_files[slide_id]['patch'])\n",
        "      test_masks.extend(all_files[slide_id]['mask'])\n",
        "      test_labels.extend(all_files[slide_id]['labels'])\n",
        "      test_slide_ids.extend([slide_id]*N)\n",
        "\n",
        "  return (np.array(train_patches), np.array(train_masks), \n",
        "          np.array(train_labels), np.array(train_slide_ids),\n",
        "          np.array(test_patches), np.array(test_masks),\n",
        "          np.array(test_labels), np.array(test_slide_ids))"
      ],
      "execution_count": 0,
      "outputs": []
    },
    {
      "cell_type": "markdown",
      "metadata": {
        "id": "e7M9HzOhp396",
        "colab_type": "text"
      },
      "source": [
        "# Experiment Definitions"
      ]
    },
    {
      "cell_type": "code",
      "metadata": {
        "id": "IFTQ3jCWpbQc",
        "colab_type": "code",
        "colab": {}
      },
      "source": [
        "LEVEL_DIR = \"/content/drive/My Drive/level_4\"\n",
        "SLIDE_DIR = \"/content/drive/My Drive/slides_copy\"\n",
        "SLIDE_FILE = \"Copy of tumor_{id}.tif\"\n",
        "TUMOR_FILE = \"Copy of tumor_{id}_mask.tif\"\n",
        "\n",
        "MODEL_TAG = \"lvl4-all\"\n",
        "MODEL_BASE = \"vgg\"\n",
        "LOAD_EXISTING_MODEL = False\n",
        "LEVEL = 4"
      ],
      "execution_count": 0,
      "outputs": []
    },
    {
      "cell_type": "markdown",
      "metadata": {
        "id": "kan-fP8KqUKJ",
        "colab_type": "text"
      },
      "source": [
        "# Load All the Saved Slides"
      ]
    },
    {
      "cell_type": "code",
      "metadata": {
        "id": "pzOCuvLlUgcA",
        "colab_type": "code",
        "colab": {}
      },
      "source": [
        "good_slides = ['016', '019', '023', '031', '057', '064', '075', \n",
        "               '078', '084']\n",
        "\n",
        "# generate random training and testing ids\n",
        "# num_test = 3\n",
        "# train_ids = np.random.choice(good_slides, len(good_slides) - num_test, replace=False)\n",
        "# test_ids = list(set(good_slides) - set(train_ids))\n",
        "# print(\"Train: {}, Test: {}\".format(train_ids, test_ids))\n",
        "\n",
        "#train_ids = ['016', '064', '031', '019', '078', '075']\n",
        "#test_ids = ['057', '084', '023']\n",
        "\n",
        "train_ids = ['016', '064', '031', '075','078', '084', '094', '096', '101']\n",
        "test_ids = ['001', '005', '091']"
      ],
      "execution_count": 0,
      "outputs": []
    },
    {
      "cell_type": "code",
      "metadata": {
        "id": "46cS57NTWy4F",
        "colab_type": "code",
        "colab": {}
      },
      "source": [
        "(train_patches, train_masks, train_labels, train_slide_ids,\n",
        "    test_patches, test_masks, test_labels, test_slide_ids) = \\\n",
        "    load_all_slides(LEVEL_DIR, train_ids, test_ids)"
      ],
      "execution_count": 0,
      "outputs": []
    },
    {
      "cell_type": "code",
      "metadata": {
        "id": "rBMom9RM_Faj",
        "colab_type": "code",
        "colab": {}
      },
      "source": [
        "from sklearn.model_selection import train_test_split\n",
        "from sklearn.utils import class_weight"
      ],
      "execution_count": 0,
      "outputs": []
    },
    {
      "cell_type": "code",
      "metadata": {
        "id": "Mu9ZhZ3g_Fal",
        "colab_type": "code",
        "colab": {}
      },
      "source": [
        "X_train, X_val, y_train, y_val = train_test_split(np.array(train_patches), \n",
        "                                                  np.array(train_labels), \n",
        "                                                  test_size=0.33)"
      ],
      "execution_count": 0,
      "outputs": []
    },
    {
      "cell_type": "markdown",
      "metadata": {
        "id": "8Iqptf9VtoYU",
        "colab_type": "text"
      },
      "source": [
        "# Modelling"
      ]
    },
    {
      "cell_type": "markdown",
      "metadata": {
        "id": "1yCQrNn-p-KH",
        "colab_type": "text"
      },
      "source": [
        "## Model Definitions"
      ]
    },
    {
      "cell_type": "code",
      "metadata": {
        "id": "HTygsXeAFkQe",
        "colab_type": "code",
        "colab": {}
      },
      "source": [
        "def create_model(base='vgg'):\n",
        "    model = tf.keras.Sequential()\n",
        "    if base == 'vgg':\n",
        "      conv_base = tf.keras.applications.VGG16(weights='imagenet',\n",
        "                                              include_top=False,\n",
        "                                              input_shape=(299, 299, 3))\n",
        "    elif base == \"inception\":\n",
        "      conv_base = tf.keras.applications.inception_v3.InceptionV3(weights='imagenet',\n",
        "                                                                 include_top=False,\n",
        "                                                                 input_shape=(299, 299, 3))\n",
        "\n",
        "    conv_base.trainable = False\n",
        "    model.add(conv_base)\n",
        "    model.add(layers.Flatten())\n",
        "    model.add(layers.Dense(256, activation='relu'))\n",
        "    model.add(layers.Dropout(0.5))\n",
        "    model.add(layers.Dense(1, activation='sigmoid'))\n",
        "  \n",
        "    return model"
      ],
      "execution_count": 0,
      "outputs": []
    },
    {
      "cell_type": "code",
      "metadata": {
        "id": "eSlZYAFq_Fas",
        "colab_type": "code",
        "colab": {}
      },
      "source": [
        "# All images will be rescaled by 1./255\n",
        "\n",
        "train_datagen = ImageDataGenerator(rescale=1./255)\n",
        "test_datagen = ImageDataGenerator(rescale=1./255)"
      ],
      "execution_count": 0,
      "outputs": []
    },
    {
      "cell_type": "code",
      "metadata": {
        "id": "2d0vNlEg_Fau",
        "colab_type": "code",
        "colab": {}
      },
      "source": [
        "# Create data generators\n",
        "train_generator = train_datagen.flow(\n",
        "    X_train, \n",
        "    y_train, \n",
        "    batch_size=32, \n",
        "    shuffle=True)\n",
        "\n",
        "val_generator = test_datagen.flow(\n",
        "    X_val, \n",
        "    y_val, \n",
        "    batch_size=32, \n",
        "    shuffle=True)"
      ],
      "execution_count": 0,
      "outputs": []
    },
    {
      "cell_type": "markdown",
      "metadata": {
        "id": "K1nNCpPh8nuo",
        "colab_type": "text"
      },
      "source": [
        "## Reload from Existing Model"
      ]
    },
    {
      "cell_type": "code",
      "metadata": {
        "id": "VMrcpAcNbh_5",
        "colab_type": "code",
        "colab": {}
      },
      "source": [
        "# Load the latest model if available\n",
        "def load_latest_checkpoint(model_tag):\n",
        "  \"\"\"Loads the 'best' latest model for that model tag if it exists.\n",
        "\n",
        "  model_tag: the model id\n",
        "  \"\"\"\n",
        "  try:\n",
        "    model_dir = os.path.join(folder_root, \"models\")\n",
        "    model_path = os.path.join(model_dir, 'model_{tag}.h5'.format(tag=model_tag))\n",
        "\n",
        "    if os.path.exists(model_path):\n",
        "      print(\"Loading model and weights\")\n",
        "      model = tf.keras.models.load_model(model_path)\n",
        "    \n",
        "      checkpoint_path = os.path.join(folder_root, \n",
        "                                    'checkpoints-{tag}'.format(tag=model_tag))\n",
        "      latest = tf.train.latest_checkpoint(checkpoint_path)\n",
        "\n",
        "      if latest != None:\n",
        "        print(\"Loading weights from\", latest)\n",
        "        model.load_weights(latest)\n",
        "        \n",
        "        history = None\n",
        "\n",
        "        history_dir = os.path.join(folder_root, 'history')\n",
        "        history_path = os.path.join(history_dir, \"model_{tag}.pkl\".format(tag=model_tag))\n",
        "\n",
        "        if os.path.exists(history_path):\n",
        "          with open(history_path, 'rb') as fp:\n",
        "            history = pickle.load(fp)\n",
        "\n",
        "        return model, history\n",
        "    else:\n",
        "      print(\"Checkpoint not found. Starting from scratch\")\n",
        "  except ValueError:\n",
        "      pass\n",
        "    \n",
        "  return None, None\n",
        "\n",
        "def load_latest_model(model_tag):\n",
        "  \"\"\"Loads the last model trained for that model_tag if it exists.\n",
        "\n",
        "  model_tag: the model id\n",
        "  \"\"\"\n",
        "  try:\n",
        "    model_dir = os.path.join(folder_root, \"models\")\n",
        "    model_path = os.path.join(model_dir, 'model_{tag}.h5'.format(tag=model_tag))\n",
        "\n",
        "    if os.path.exists(model_path):\n",
        "      print(\"Loading model and weights\")\n",
        "      model = tf.keras.models.load_model(model_path)\n",
        "      \n",
        "      history = None\n",
        "\n",
        "      history_dir = os.path.join(folder_root, 'history')\n",
        "      history_path = os.path.join(history_dir, \"model_{tag}.pkl\".format(tag=model_tag))\n",
        "\n",
        "      if os.path.exists(history_path):\n",
        "        with open(history_path, 'rb') as fp:\n",
        "          history = pickle.load(fp)\n",
        "\n",
        "      return model, history\n",
        "    else:\n",
        "      print(\"Checkpoint not found. Starting from scratch\")\n",
        "  except ValueError:\n",
        "      pass\n",
        "  \n",
        "  return None, None"
      ],
      "execution_count": 0,
      "outputs": []
    },
    {
      "cell_type": "code",
      "metadata": {
        "id": "TuI0TOOo_Fay",
        "colab_type": "code",
        "colab": {}
      },
      "source": [
        "def train_model(model, train_data_gen, val_data_gen, epochs, model_tag):\n",
        "  \"\"\"Train a CNN model for slide patches and corresponding labels. This method\n",
        "  will perform checkpointings (by saving the best weights) and utilize early \n",
        "  stop mechanism to stop the training when the model doesn't improve. \n",
        "\n",
        "  model: a CNN model\n",
        "  epochs: number of epochs\n",
        "  model_tag: the model ID\n",
        "  \"\"\"\n",
        "  # time model run\n",
        "  start_time = time.time()/60\n",
        "\n",
        "  # checkpoints dir\n",
        "  checkpoints_dir = 'checkpoints-{tag}'.format(tag=model_tag)\n",
        "  checkpoints_dir_path = os.path.join(folder_root, checkpoints_dir)\n",
        "\n",
        "  if not os.path.exists(checkpoints_dir_path):\n",
        "    os.mkdir(checkpoints_dir_path)\n",
        "\n",
        "  # history dir\n",
        "  history_dir = 'history'.format(tag=model_tag)\n",
        "  history_dir_path = os.path.join(folder_root, history_dir)\n",
        "\n",
        "  if not os.path.exists(history_dir_path):\n",
        "    os.mkdir(history_dir_path)\n",
        "\n",
        "  # models dir\n",
        "  models_dir = 'models'\n",
        "  models_dir_path = os.path.join(folder_root, models_dir)\n",
        "\n",
        "  if not os.path.exists(models_dir_path):\n",
        "    os.mkdir(models_dir_path)\n",
        "\n",
        "  checkpoint_path = os.path.join(checkpoints_dir_path, 'cp-{epoch:08d}.ckpt')\n",
        "  print(\"Checkpoint path: {}\".format(checkpoint_path))\n",
        "\n",
        "  # save checkpoints\n",
        "  callbacks = [\n",
        "      tf.keras.callbacks.EarlyStopping(monitor='val_acc',\n",
        "                                       min_delta=0.001,\n",
        "                                       patience=10,\n",
        "                                       verbose=1),\n",
        "      tf.keras.callbacks.ModelCheckpoint(\n",
        "          filepath=checkpoint_path,\n",
        "          # Path where to save the model\n",
        "          # The two parameters below mean that we will overwrite\n",
        "          # the current checkpoint if and only if\n",
        "          # the `val_loss` score has improved.\n",
        "          save_best_only=True,\n",
        "          save_weights_only=True,\n",
        "          monitor='val_loss',\n",
        "          verbose=1)\n",
        "  ]\n",
        "\n",
        "  history = model.fit_generator(\n",
        "      train_data_gen,\n",
        "      epochs=epochs,\n",
        "      validation_data=val_data_gen,\n",
        "      callbacks=callbacks)\n",
        "\n",
        "  # save model to drive\n",
        "  model_filename = \"model_{tag}.h5\".format(tag=model_tag)\n",
        "  model_path = os.path.join(models_dir_path, model_filename)\n",
        "  \n",
        "  print(\"Saved model to: {}\".format(model_path))\n",
        "  model.save(model_path)\n",
        "\n",
        "  history_path = os.path.join(history_dir_path, 'model_{tag}.pkl'.format(tag=model_tag))\n",
        "  with open(history_path, \"wb\") as fp:\n",
        "      pickle.dump(history.history, fp)\n",
        "\n",
        "  train_time = time.time()/60 - start_time\n",
        "  print('Time: %.2f min' % train_time)\n",
        "\n",
        "  return model, history"
      ],
      "execution_count": 0,
      "outputs": []
    },
    {
      "cell_type": "code",
      "metadata": {
        "id": "Oig2uAL0E-vr",
        "colab_type": "code",
        "colab": {}
      },
      "source": [
        "import matplotlib.pyplot as plt\n",
        "\n",
        "def plot_model_history(history):\n",
        "  acc = history['acc']\n",
        "  val_acc = history['val_acc']\n",
        "  loss = history['loss']\n",
        "  val_loss = history['val_loss']\n",
        "\n",
        "  epochs = range(1, len(acc)+1)\n",
        "\n",
        "  plt.plot(epochs, acc, 'bo', label='Training acc')\n",
        "  plt.plot(epochs, val_acc, 'b', label='Validation acc')\n",
        "  plt.title('Training and validation accuracy')\n",
        "  plt.legend()\n",
        "\n",
        "  plt.figure()\n",
        "\n",
        "  plt.plot(epochs, loss, 'bo', label='Training loss')\n",
        "  plt.plot(epochs, val_loss, 'b', label='Validation loss')\n",
        "  plt.title('Training and validation loss')\n",
        "  plt.legend()"
      ],
      "execution_count": 0,
      "outputs": []
    },
    {
      "cell_type": "markdown",
      "metadata": {
        "id": "tA_R_QwAqC5L",
        "colab_type": "text"
      },
      "source": [
        "## Model Training"
      ]
    },
    {
      "cell_type": "code",
      "metadata": {
        "id": "KQs53dWc8hD6",
        "colab_type": "code",
        "colab": {}
      },
      "source": [
        "model, history = None, None\n",
        "\n",
        "if LOAD_EXISTING_MODEL:\n",
        "  model, history = load_latest_checkpoint(model_tag=MODEL_TAG)"
      ],
      "execution_count": 0,
      "outputs": []
    },
    {
      "cell_type": "code",
      "metadata": {
        "colab_type": "code",
        "id": "M6ECdLDe8Ubf",
        "colab": {
          "base_uri": "https://localhost:8080/",
          "height": 1000
        },
        "outputId": "b5e0e859-da67-4033-8e86-f914b1612d09"
      },
      "source": [
        "if not LOAD_EXISTING_MODEL or model is None:\n",
        "  model = create_model(base=MODEL_BASE)\n",
        "  model.compile(loss='binary_crossentropy', \n",
        "                optimizer='adam',\n",
        "                metrics=['acc'])\n",
        "  model, history = train_model(model, train_generator, val_generator, \n",
        "                              epochs=50, model_tag=MODEL_TAG)"
      ],
      "execution_count": 29,
      "outputs": [
        {
          "output_type": "stream",
          "text": [
            "Downloading data from https://github.com/fchollet/deep-learning-models/releases/download/v0.1/vgg16_weights_tf_dim_ordering_tf_kernels_notop.h5\n",
            "58892288/58889256 [==============================] - 2s 0us/step\n",
            "Checkpoint path: /content/drive/My Drive/4995-final/checkpoints-lvl4-all/cp-{epoch:08d}.ckpt\n",
            "WARNING:tensorflow:From <ipython-input-26-ffd91e0cbcf4>:59: Model.fit_generator (from tensorflow.python.keras.engine.training) is deprecated and will be removed in a future version.\n",
            "Instructions for updating:\n",
            "Please use Model.fit, which supports generators.\n",
            "WARNING:tensorflow:sample_weight modes were coerced from\n",
            "  ...\n",
            "    to  \n",
            "  ['...']\n",
            "WARNING:tensorflow:sample_weight modes were coerced from\n",
            "  ...\n",
            "    to  \n",
            "  ['...']\n",
            "Train for 26 steps, validate for 13 steps\n",
            "Epoch 1/50\n",
            "25/26 [===========================>..] - ETA: 0s - loss: 2.9478 - acc: 0.5718\n",
            "Epoch 00001: val_loss improved from inf to 0.57883, saving model to /content/drive/My Drive/4995-final/checkpoints-lvl4-all/cp-00000001.ckpt\n",
            "26/26 [==============================] - 15s 591ms/step - loss: 2.9162 - acc: 0.5714 - val_loss: 0.5788 - val_acc: 0.7300\n",
            "Epoch 2/50\n",
            "25/26 [===========================>..] - ETA: 0s - loss: 0.5821 - acc: 0.7410\n",
            "Epoch 00002: val_loss improved from 0.57883 to 0.49030, saving model to /content/drive/My Drive/4995-final/checkpoints-lvl4-all/cp-00000002.ckpt\n",
            "26/26 [==============================] - 6s 237ms/step - loss: 0.5690 - acc: 0.7488 - val_loss: 0.4903 - val_acc: 0.7150\n",
            "Epoch 3/50\n",
            "25/26 [===========================>..] - ETA: 0s - loss: 0.4052 - acc: 0.7974\n",
            "Epoch 00003: val_loss improved from 0.49030 to 0.29456, saving model to /content/drive/My Drive/4995-final/checkpoints-lvl4-all/cp-00000003.ckpt\n",
            "26/26 [==============================] - 7s 274ms/step - loss: 0.4047 - acc: 0.7980 - val_loss: 0.2946 - val_acc: 0.9025\n",
            "Epoch 4/50\n",
            "25/26 [===========================>..] - ETA: 0s - loss: 0.2808 - acc: 0.8859\n",
            "Epoch 00004: val_loss improved from 0.29456 to 0.25864, saving model to /content/drive/My Drive/4995-final/checkpoints-lvl4-all/cp-00000004.ckpt\n",
            "26/26 [==============================] - 6s 240ms/step - loss: 0.2771 - acc: 0.8879 - val_loss: 0.2586 - val_acc: 0.8950\n",
            "Epoch 5/50\n",
            "25/26 [===========================>..] - ETA: 0s - loss: 0.2009 - acc: 0.9244\n",
            "Epoch 00005: val_loss improved from 0.25864 to 0.25531, saving model to /content/drive/My Drive/4995-final/checkpoints-lvl4-all/cp-00000005.ckpt\n",
            "26/26 [==============================] - 7s 271ms/step - loss: 0.1962 - acc: 0.9249 - val_loss: 0.2553 - val_acc: 0.8850\n",
            "Epoch 6/50\n",
            "25/26 [===========================>..] - ETA: 0s - loss: 0.1909 - acc: 0.9218\n",
            "Epoch 00006: val_loss did not improve from 0.25531\n",
            "26/26 [==============================] - 5s 202ms/step - loss: 0.1903 - acc: 0.9224 - val_loss: 0.2603 - val_acc: 0.9175\n",
            "Epoch 7/50\n",
            "25/26 [===========================>..] - ETA: 0s - loss: 0.1706 - acc: 0.9410\n",
            "Epoch 00007: val_loss improved from 0.25531 to 0.23208, saving model to /content/drive/My Drive/4995-final/checkpoints-lvl4-all/cp-00000007.ckpt\n",
            "26/26 [==============================] - 6s 239ms/step - loss: 0.1705 - acc: 0.9397 - val_loss: 0.2321 - val_acc: 0.8900\n",
            "Epoch 8/50\n",
            "25/26 [===========================>..] - ETA: 0s - loss: 0.1030 - acc: 0.9718\n",
            "Epoch 00008: val_loss improved from 0.23208 to 0.18973, saving model to /content/drive/My Drive/4995-final/checkpoints-lvl4-all/cp-00000008.ckpt\n",
            "26/26 [==============================] - 6s 227ms/step - loss: 0.1005 - acc: 0.9729 - val_loss: 0.1897 - val_acc: 0.9225\n",
            "Epoch 9/50\n",
            "25/26 [===========================>..] - ETA: 0s - loss: 0.0845 - acc: 0.9782\n",
            "Epoch 00009: val_loss did not improve from 0.18973\n",
            "26/26 [==============================] - 5s 200ms/step - loss: 0.0839 - acc: 0.9791 - val_loss: 0.2134 - val_acc: 0.9025\n",
            "Epoch 10/50\n",
            "25/26 [===========================>..] - ETA: 0s - loss: 0.0854 - acc: 0.9782\n",
            "Epoch 00010: val_loss improved from 0.18973 to 0.17532, saving model to /content/drive/My Drive/4995-final/checkpoints-lvl4-all/cp-00000010.ckpt\n",
            "26/26 [==============================] - 6s 240ms/step - loss: 0.0832 - acc: 0.9791 - val_loss: 0.1753 - val_acc: 0.9250\n",
            "Epoch 11/50\n",
            "25/26 [===========================>..] - ETA: 0s - loss: 0.0507 - acc: 0.9897\n",
            "Epoch 00011: val_loss improved from 0.17532 to 0.16706, saving model to /content/drive/My Drive/4995-final/checkpoints-lvl4-all/cp-00000011.ckpt\n",
            "26/26 [==============================] - 6s 241ms/step - loss: 0.0498 - acc: 0.9901 - val_loss: 0.1671 - val_acc: 0.9400\n",
            "Epoch 12/50\n",
            "25/26 [===========================>..] - ETA: 0s - loss: 0.0437 - acc: 0.9962\n",
            "Epoch 00012: val_loss improved from 0.16706 to 0.15769, saving model to /content/drive/My Drive/4995-final/checkpoints-lvl4-all/cp-00000012.ckpt\n",
            "26/26 [==============================] - 6s 241ms/step - loss: 0.0441 - acc: 0.9963 - val_loss: 0.1577 - val_acc: 0.9350\n",
            "Epoch 13/50\n",
            "25/26 [===========================>..] - ETA: 0s - loss: 0.0503 - acc: 0.9910\n",
            "Epoch 00013: val_loss did not improve from 0.15769\n",
            "26/26 [==============================] - 5s 201ms/step - loss: 0.0495 - acc: 0.9914 - val_loss: 0.2400 - val_acc: 0.9000\n",
            "Epoch 14/50\n",
            "25/26 [===========================>..] - ETA: 0s - loss: 0.0480 - acc: 0.9885\n",
            "Epoch 00014: val_loss did not improve from 0.15769\n",
            "26/26 [==============================] - 5s 201ms/step - loss: 0.0475 - acc: 0.9889 - val_loss: 0.2179 - val_acc: 0.9075\n",
            "Epoch 15/50\n",
            "25/26 [===========================>..] - ETA: 0s - loss: 0.0442 - acc: 0.9897\n",
            "Epoch 00015: val_loss did not improve from 0.15769\n",
            "26/26 [==============================] - 5s 201ms/step - loss: 0.0435 - acc: 0.9901 - val_loss: 0.1585 - val_acc: 0.9450\n",
            "Epoch 16/50\n",
            "25/26 [===========================>..] - ETA: 0s - loss: 0.0246 - acc: 1.0000\n",
            "Epoch 00016: val_loss did not improve from 0.15769\n",
            "26/26 [==============================] - 5s 200ms/step - loss: 0.0243 - acc: 1.0000 - val_loss: 0.1655 - val_acc: 0.9350\n",
            "Epoch 17/50\n",
            "25/26 [===========================>..] - ETA: 0s - loss: 0.0252 - acc: 0.9949\n",
            "Epoch 00017: val_loss improved from 0.15769 to 0.15678, saving model to /content/drive/My Drive/4995-final/checkpoints-lvl4-all/cp-00000017.ckpt\n",
            "26/26 [==============================] - 6s 224ms/step - loss: 0.0256 - acc: 0.9951 - val_loss: 0.1568 - val_acc: 0.9400\n",
            "Epoch 18/50\n",
            "25/26 [===========================>..] - ETA: 0s - loss: 0.0279 - acc: 0.9974\n",
            "Epoch 00018: val_loss did not improve from 0.15678\n",
            "26/26 [==============================] - 5s 201ms/step - loss: 0.0273 - acc: 0.9975 - val_loss: 0.1621 - val_acc: 0.9350\n",
            "Epoch 19/50\n",
            "25/26 [===========================>..] - ETA: 0s - loss: 0.0150 - acc: 1.0000\n",
            "Epoch 00019: val_loss did not improve from 0.15678\n",
            "26/26 [==============================] - 5s 202ms/step - loss: 0.0148 - acc: 1.0000 - val_loss: 0.1616 - val_acc: 0.9400\n",
            "Epoch 20/50\n",
            "25/26 [===========================>..] - ETA: 0s - loss: 0.0122 - acc: 1.0000\n",
            "Epoch 00020: val_loss did not improve from 0.15678\n",
            "26/26 [==============================] - 5s 202ms/step - loss: 0.0121 - acc: 1.0000 - val_loss: 0.1614 - val_acc: 0.9425\n",
            "Epoch 21/50\n",
            "25/26 [===========================>..] - ETA: 0s - loss: 0.0128 - acc: 1.0000\n",
            "Epoch 00021: val_loss did not improve from 0.15678\n",
            "26/26 [==============================] - 5s 202ms/step - loss: 0.0126 - acc: 1.0000 - val_loss: 0.1642 - val_acc: 0.9425\n",
            "Epoch 22/50\n",
            "25/26 [===========================>..] - ETA: 0s - loss: 0.0109 - acc: 0.9974\n",
            "Epoch 00022: val_loss did not improve from 0.15678\n",
            "26/26 [==============================] - 5s 201ms/step - loss: 0.0114 - acc: 0.9975 - val_loss: 0.1716 - val_acc: 0.9400\n",
            "Epoch 23/50\n",
            "25/26 [===========================>..] - ETA: 0s - loss: 0.0112 - acc: 0.9987\n",
            "Epoch 00023: val_loss did not improve from 0.15678\n",
            "26/26 [==============================] - 5s 200ms/step - loss: 0.0122 - acc: 0.9988 - val_loss: 0.1685 - val_acc: 0.9375\n",
            "Epoch 24/50\n",
            "25/26 [===========================>..] - ETA: 0s - loss: 0.0106 - acc: 1.0000\n",
            "Epoch 00024: val_loss did not improve from 0.15678\n",
            "26/26 [==============================] - 5s 201ms/step - loss: 0.0113 - acc: 0.9988 - val_loss: 0.1704 - val_acc: 0.9425\n",
            "Epoch 25/50\n",
            "25/26 [===========================>..] - ETA: 0s - loss: 0.0116 - acc: 1.0000\n",
            "Epoch 00025: val_loss did not improve from 0.15678\n",
            "26/26 [==============================] - 5s 201ms/step - loss: 0.0115 - acc: 1.0000 - val_loss: 0.1743 - val_acc: 0.9400\n",
            "Epoch 00025: early stopping\n",
            "Saved model to: /content/drive/My Drive/4995-final/models/model_lvl4-all.h5\n",
            "Time: 2.60 min\n"
          ],
          "name": "stdout"
        }
      ]
    },
    {
      "cell_type": "code",
      "metadata": {
        "id": "zvFsLoiLoDcq",
        "colab_type": "code",
        "colab": {
          "base_uri": "https://localhost:8080/",
          "height": 56
        },
        "outputId": "66d94be0-05a1-4e10-8b91-a02ec5fd917c"
      },
      "source": [
        "model, history = load_latest_checkpoint(MODEL_TAG)"
      ],
      "execution_count": 30,
      "outputs": [
        {
          "output_type": "stream",
          "text": [
            "Loading model and weights\n",
            "Loading weights from /content/drive/My Drive/4995-final/checkpoints-lvl4-all/cp-00000017.ckpt\n"
          ],
          "name": "stdout"
        }
      ]
    },
    {
      "cell_type": "code",
      "metadata": {
        "id": "sXDkedksMM_-",
        "colab_type": "code",
        "colab": {
          "base_uri": "https://localhost:8080/",
          "height": 545
        },
        "outputId": "b62843b5-d716-4da5-8f02-fa2fe155ba52"
      },
      "source": [
        "plot_model_history(history)"
      ],
      "execution_count": 31,
      "outputs": [
        {
          "output_type": "display_data",
          "data": {
            "image/png": "[encoded data removed]",
            "text/plain": [
              "<Figure size 432x288 with 1 Axes>"
            ]
          },
          "metadata": {
            "tags": []
          }
        },
        {
          "output_type": "display_data",
          "data": {
            "image/png": "[encoded data removed]",
            "text/plain": [
              "<Figure size 432x288 with 1 Axes>"
            ]
          },
          "metadata": {
            "tags": []
          }
        }
      ]
    },
    {
      "cell_type": "markdown",
      "metadata": {
        "id": "fNckPdv6uxEs",
        "colab_type": "text"
      },
      "source": [
        "## Model Prediction"
      ]
    },
    {
      "cell_type": "code",
      "metadata": {
        "id": "adhtVTo6ghxl",
        "colab_type": "code",
        "colab": {}
      },
      "source": [
        "# simple heatmap using the same image\n",
        "# split regions into 299x299, predict if center is tumor --> color the region with yellow\n",
        "def extract_test_data(slide, tumor_mask, lvl, patch_center=128, patch_size=299):\n",
        "  \"\"\"Extract the whole test patches from a slide at a level\n",
        "\n",
        "  slide: the slide for image\n",
        "  tumor_mask: the slide for tumor\n",
        "  lvl: the zoom level\n",
        "  patch_center: the patch center and center's pixel size\n",
        "  patch_size: the patch size\n",
        "  \"\"\"\n",
        "  print(\"===Start Extracting patches for Testing..===\")\n",
        "  start_time = time.time() / 60\n",
        "  dim = get_dim_from_slide(slide, lvl)\n",
        "\n",
        "  test_coords = []\n",
        "  test_patches = []\n",
        "  true_labels = []\n",
        "\n",
        "  count = 0\n",
        "  \n",
        "  for y in range(0, slide.level_dimensions[lvl][1], patch_center):\n",
        "    for x in range(0, slide.level_dimensions[lvl][0], patch_center):\n",
        "        # extract slide image by patch_size x patch_size centered at patch_center x patch_center size\n",
        "        slide_patch = read_slide(\n",
        "            slide, \n",
        "            x=(x + int(round(patch_center / 2)) - int(round(patch_size/2)))*dim, \n",
        "            y=(y + int(round(patch_center / 2)) - int(round(patch_size/2)))*dim,\n",
        "            level=lvl, \n",
        "            width=patch_size, \n",
        "            height=patch_size\n",
        "        )\n",
        "        \n",
        "        # extract tumor by patch_size x patch_size centered at patch_center x patch_center size\n",
        "        tumor_patch = read_slide(\n",
        "            tumor_mask, \n",
        "            x=(x + int(round(patch_center / 2)) - int(round(patch_size/2)))*dim, \n",
        "            y=(y + int(round(patch_center / 2)) - int(round(patch_size/2)))*dim,\n",
        "            level=lvl, \n",
        "            width=patch_size, \n",
        "            height=patch_size\n",
        "        )\n",
        "        # tumor patch just use one channel\n",
        "        tumor_patch = tumor_patch[:, :, 0]\n",
        "        \n",
        "        # check if it's a tissue pixels\n",
        "        tissue_pixels = find_tissue_pixels(slide_patch)\n",
        "        percent_tissue = len(tissue_pixels) / float(slide_patch.shape[0] * slide_patch.shape[0]) * 100\n",
        "        \n",
        "        if percent_tissue > 10:\n",
        "            test_coords.append((y, x))\n",
        "          \n",
        "            test_patches.append(slide_patch)\n",
        "            label = is_patch_tumor(tumor_patch, patch_center)\n",
        "            true_labels.append(int(label))\n",
        "\n",
        "            count += 1\n",
        "\n",
        "  test_coords = np.array(test_coords)\n",
        "  test_patches = np.array(test_patches)\n",
        "  true_labels = np.array(true_labels)\n",
        "\n",
        "  patch_ext_time = time.time()/60 - start_time\n",
        "\n",
        "  print(\"Extracted {} patches\".format(len(true_labels)))\n",
        "  print('Time: %.2f min' % patch_ext_time)\n",
        "  print(\"===Finsihed Extracting patches for Testing..===\")\n",
        "\n",
        "  return test_coords, test_patches, true_labels"
      ],
      "execution_count": 0,
      "outputs": []
    },
    {
      "cell_type": "code",
      "metadata": {
        "id": "S7joV4xUuwTb",
        "colab_type": "code",
        "colab": {}
      },
      "source": [
        "def predict_test_data(model, test_datagen, test_patches, true_labels):\n",
        "  test_generator = test_datagen.flow(\n",
        "    test_patches, \n",
        "    true_labels,\n",
        "    batch_size=32, \n",
        "    shuffle=False\n",
        "  )\n",
        "  \n",
        "  # predict test_patches\n",
        "  pred_labels = model.predict(test_generator)\n",
        "  pred_labels = pred_labels.ravel()\n",
        "\n",
        "  return pred_labels"
      ],
      "execution_count": 0,
      "outputs": []
    },
    {
      "cell_type": "markdown",
      "metadata": {
        "id": "QNAxQJdGtkXx",
        "colab_type": "text"
      },
      "source": [
        "# Testing and Evaluation"
      ]
    },
    {
      "cell_type": "code",
      "metadata": {
        "id": "OVGBIh3uu0Ol",
        "colab_type": "code",
        "colab": {}
      },
      "source": [
        "def evaluate_prediction(true_labels, pred_labels):\n",
        "  # calculate roc, auc score and average precision on predicted probabilities\n",
        "  roc_auc = metrics.roc_auc_score(true_labels == 1, pred_labels)\n",
        "  avg_precision = metrics.average_precision_score(true_labels == 1, pred_labels)\n",
        "\n",
        "  # calculate f1, recall, and precision scores on the predicted labels (0 or 1)\n",
        "  precision = metrics.precision_score(true_labels == 1, pred_labels > 0.5)\n",
        "  recall = metrics.recall_score(true_labels == 1, pred_labels > 0.5)\n",
        "  f1 = metrics.f1_score(true_labels == 1, pred_labels > 0.5)\n",
        "\n",
        "  print(\"===Evaluation Metrics===\")\n",
        "  print('Precision score: %.3f' % precision)\n",
        "  print('Recall score: %.3f' % recall)\n",
        "  print('F1 score: %.3f' % f1)\n",
        "  print('ROC AUC score: %.3f' % roc_auc)\n",
        "  print('Average precision score: %.3f' % avg_precision)"
      ],
      "execution_count": 0,
      "outputs": []
    },
    {
      "cell_type": "code",
      "metadata": {
        "id": "eVdtoFuOveMw",
        "colab_type": "code",
        "colab": {}
      },
      "source": [
        "def plot_prob_heatmap(pred_labels, slide, tumor_mask, lvl, coords, patch_center=128):\n",
        "  \"\"\"Plot the probability heatmap on the slide\n",
        "\n",
        "  pred_labels: the predicted probability\n",
        "  slide: the cell tissue slide\n",
        "  tumor_mask: the tumor mask slide\n",
        "  lvl: the zoom level\n",
        "  coords: the coordinates of the cells\n",
        "  patch_center: the patch center\n",
        "  \"\"\"\n",
        "  slide_image = read_slide(\n",
        "      slide,\n",
        "      x=0, \n",
        "      y=0, \n",
        "      level=lvl,\n",
        "      width=slide.level_dimensions[lvl][0],\n",
        "      height=slide.level_dimensions[lvl][1]\n",
        "  )\n",
        "\n",
        "  slide_tumor = read_slide(\n",
        "      tumor_mask,\n",
        "      x=0, \n",
        "      y=0, \n",
        "      level=lvl,\n",
        "      width=slide.level_dimensions[lvl][0],\n",
        "      height=slide.level_dimensions[lvl][1]\n",
        "  )\n",
        "  slide_tumor = slide_tumor[:,:,0]\n",
        "\n",
        "  # Src: https://matplotlib.org/3.1.1/gallery/images_contours_and_fields/image_transparency_blend.html\n",
        "  hm_overlay = np.zeros(\n",
        "      (slide.level_dimensions[lvl][1], slide.level_dimensions[lvl][0])\n",
        "  )\n",
        "  for idx in range(len(coords)):\n",
        "    y, x = coords[idx]\n",
        "    hm_overlay[y:y+patch_center, x:x+patch_center] = pred_labels[idx]\n",
        "\n",
        "  # First we'll plot these blobs using only ``imshow``.\n",
        "  vmax = np.abs(hm_overlay).max()\n",
        "  vmin = 0\n",
        "  cmap = plt.cm.inferno\n",
        "\n",
        "  # Normalize the colors b/w 0 and 1, we'll then pass an MxNx4 array to imshow\n",
        "  colors = Normalize(vmin, vmax, clip=True)(hm_overlay)\n",
        "  colors = cmap(colors)\n",
        "\n",
        "  # 1 being opaque, 0 being transparent\n",
        "  # Now set the alpha channel to the one we created above\n",
        "  colors[..., -1] = hm_overlay/np.max(hm_overlay)\n",
        "\n",
        "  fig, axes = plt.subplots(1, 2, figsize=(15, 15))\n",
        "  axes[0].imshow(slide_image)\n",
        "  axes[0].imshow(np.ma.masked_values(slide_tumor, 0), \n",
        "                 cmap=cmap, vmin=0, vmax=1, alpha=0.8)\n",
        "\n",
        "  axes[1].imshow(slide_image)\n",
        "  axes[1].imshow(colors, vmin=vmin, vmax=vmax, cmap=cmap)"
      ],
      "execution_count": 0,
      "outputs": []
    },
    {
      "cell_type": "code",
      "metadata": {
        "id": "juNQho4Lpt-y",
        "colab_type": "code",
        "colab": {
          "base_uri": "https://localhost:8080/",
          "height": 36
        },
        "outputId": "1705e5a4-bb3b-4364-ad53-d340587009d6"
      },
      "source": [
        "test_ids"
      ],
      "execution_count": 36,
      "outputs": [
        {
          "output_type": "execute_result",
          "data": {
            "text/plain": [
              "['001', '005', '091']"
            ]
          },
          "metadata": {
            "tags": []
          },
          "execution_count": 36
        }
      ]
    },
    {
      "cell_type": "code",
      "metadata": {
        "id": "_jozwCtUwxMW",
        "colab_type": "code",
        "colab": {}
      },
      "source": [
        "def evaluate_model_on_slide(model, slide_id):\n",
        "  slide_path = os.path.join(SLIDE_DIR, TUMOR_FILE.format(\n",
        "                              id=slide_id\n",
        "                          ))\n",
        "\n",
        "  tumor_path = os.path.join(SLIDE_DIR, TUMOR_FILE.format(\n",
        "                                id=slide_id\n",
        "                            ))\n",
        "\n",
        "  slide_image = open_slide(slide_path)\n",
        "  slide_tumor = open_slide(tumor_path)\n",
        "\n",
        "  test_coords, test_patches, true_labels = extract_test_data(slide_image, \n",
        "                                                             slide_tumor, \n",
        "                                                             LEVEL, \n",
        "                                                             patch_center=128, \n",
        "                                                             patch_size=299)\n",
        "   \n",
        "  pred_labels = predict_test_data(model, test_datagen, test_patches, true_labels)\n",
        "  \n",
        "  evaluate_prediction(true_labels, pred_labels)\n",
        "  plot_prob_heatmap(pred_labels, slide_image, slide_tumor, LEVEL, test_coords)"
      ],
      "execution_count": 0,
      "outputs": []
    },
    {
      "cell_type": "code",
      "metadata": {
        "id": "azxkiqElxU65",
        "colab_type": "code",
        "colab": {
          "base_uri": "https://localhost:8080/",
          "height": 56
        },
        "outputId": "95faae73-f51c-4088-cb68-6d4ccb969e1a"
      },
      "source": [
        "model, history = load_latest_checkpoint(MODEL_TAG)"
      ],
      "execution_count": 38,
      "outputs": [
        {
          "output_type": "stream",
          "text": [
            "Loading model and weights\n",
            "Loading weights from /content/drive/My Drive/4995-final/checkpoints-lvl4-all/cp-00000017.ckpt\n"
          ],
          "name": "stdout"
        }
      ]
    },
    {
      "cell_type": "code",
      "metadata": {
        "id": "MLKWwhYMxLHN",
        "colab_type": "code",
        "colab": {
          "base_uri": "https://localhost:8080/",
          "height": 1000
        },
        "outputId": "39a5aab4-7de3-4a38-9a0a-c57a2c211502"
      },
      "source": [
        "evaluate_model_on_slide(model, test_ids[0])"
      ],
      "execution_count": 39,
      "outputs": [
        {
          "output_type": "stream",
          "text": [
            "===Start Extracting patches for Testing..===\n",
            "Extracted 5184 patches\n",
            "Time: 2.95 min\n",
            "===Finsihed Extracting patches for Testing..===\n"
          ],
          "name": "stdout"
        },
        {
          "output_type": "stream",
          "text": [
            "/usr/local/lib/python3.6/dist-packages/sklearn/metrics/classification.py:1437: UndefinedMetricWarning: Precision is ill-defined and being set to 0.0 due to no predicted samples.\n",
            "  'precision', 'predicted', average, warn_for)\n",
            "/usr/local/lib/python3.6/dist-packages/sklearn/metrics/classification.py:1437: UndefinedMetricWarning: F-score is ill-defined and being set to 0.0 due to no predicted samples.\n",
            "  'precision', 'predicted', average, warn_for)\n"
          ],
          "name": "stderr"
        },
        {
          "output_type": "stream",
          "text": [
            "===Evaluation Metrics===\n",
            "Precision score: 0.000\n",
            "Recall score: 0.000\n",
            "F1 score: 0.000\n",
            "ROC AUC score: 0.273\n",
            "Average precision score: 0.128\n"
          ],
          "name": "stdout"
        },
        {
          "output_type": "display_data",
          "data": {
            "image/png": "[encoded data removed]",
            "text/plain": [
              "<Figure size 1080x1080 with 2 Axes>"
            ]
          },
          "metadata": {
            "tags": []
          }
        }
      ]
    },
    {
      "cell_type": "code",
      "metadata": {
        "id": "wHj5zBBtxBO6",
        "colab_type": "code",
        "colab": {
          "base_uri": "https://localhost:8080/",
          "height": 36
        },
        "outputId": "753c8685-0f21-45e5-bc1b-62f36e52ff2a"
      },
      "source": [
        "evaluate_model_on_slide(model, test_ids[1])"
      ],
      "execution_count": 0,
      "outputs": [
        {
          "output_type": "stream",
          "text": [
            "===Start Extracting patches for Testing..===\n"
          ],
          "name": "stdout"
        }
      ]
    },
    {
      "cell_type": "code",
      "metadata": {
        "id": "H62t5aXBxHeo",
        "colab_type": "code",
        "colab": {}
      },
      "source": [
        "evaluate_model_on_slide(model, test_ids[2])"
      ],
      "execution_count": 0,
      "outputs": []
    },
    {
      "cell_type": "code",
      "metadata": {
        "colab_type": "code",
        "id": "UNXEZYX68eAY",
        "colab": {}
      },
      "source": [
        "# window_size, stride"
      ],
      "execution_count": 0,
      "outputs": []
    }
  ]
}